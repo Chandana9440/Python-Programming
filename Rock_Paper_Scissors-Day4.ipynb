{
 "cells": [
  {
   "cell_type": "code",
   "execution_count": 14,
   "id": "c4450650-8486-44c2-938c-ed060ee73a8e",
   "metadata": {},
   "outputs": [
    {
     "name": "stdin",
     "output_type": "stream",
     "text": [
      " 1\n"
     ]
    },
    {
     "name": "stdout",
     "output_type": "stream",
     "text": [
      "\n",
      "    _______\n",
      "---'   ____)____\n",
      "          ______)\n",
      "          _______)\n",
      "         _______)\n",
      "---.__________)\n",
      "\n",
      "1\n",
      "\n",
      "    _______\n",
      "---'   ____)____\n",
      "          ______)\n",
      "          _______)\n",
      "         _______)\n",
      "---.__________)\n",
      "\n",
      "Draw\n"
     ]
    }
   ],
   "source": [
    "rock = '''\n",
    "    _______\n",
    "---'   ____)\n",
    "      (_____)\n",
    "      (_____)\n",
    "      (____)\n",
    "---.__(___)\n",
    "'''\n",
    "\n",
    "paper = '''\n",
    "    _______\n",
    "---'   ____)____\n",
    "          ______)\n",
    "          _______)\n",
    "         _______)\n",
    "---.__________)\n",
    "'''\n",
    "\n",
    "scissors = '''\n",
    "    _______\n",
    "---'   ____)____\n",
    "          ______)\n",
    "       __________)\n",
    "      (____)\n",
    "---.__(___)\n",
    "'''\n",
    "import random\n",
    "x=[rock,paper,scissors]\n",
    "user_input=int(input())\n",
    "print(x[user_input])\n",
    "random_input=random.randint(0,2)\n",
    "print(random_input)\n",
    "print(x[random_input])\n",
    "if (user_input==0 and random_input==2):\n",
    "    print(\"You wins!\")\n",
    "elif (user_input==2 and random_input==1):\n",
    "    print(\"You wins!\")\n",
    "elif (user_input==1 and random_input==0):\n",
    "    print(\"you wins!\")\n",
    "elif(user_input==random_input):\n",
    "    print(\"Draw\")\n",
    "else:\n",
    "    print(\"You loose\")"
   ]
  },
  {
   "cell_type": "code",
   "execution_count": null,
   "id": "fc673f29-24fe-41c6-890f-fa965f489fad",
   "metadata": {},
   "outputs": [],
   "source": []
  }
 ],
 "metadata": {
  "kernelspec": {
   "display_name": "Python 3 (ipykernel)",
   "language": "python",
   "name": "python3"
  },
  "language_info": {
   "codemirror_mode": {
    "name": "ipython",
    "version": 3
   },
   "file_extension": ".py",
   "mimetype": "text/x-python",
   "name": "python",
   "nbconvert_exporter": "python",
   "pygments_lexer": "ipython3",
   "version": "3.12.1"
  }
 },
 "nbformat": 4,
 "nbformat_minor": 5
}
