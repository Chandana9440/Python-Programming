{
 "cells": [
  {
   "cell_type": "code",
   "execution_count": 13,
   "id": "771024a4-1862-4641-9518-f0711ecabeb1",
   "metadata": {},
   "outputs": [
    {
     "name": "stdout",
     "output_type": "stream",
     "text": [
      "Welcome to the PyPassword Generator!\n"
     ]
    },
    {
     "name": "stdin",
     "output_type": "stream",
     "text": [
      "How many letters would you like in your password?\n",
      " 5\n",
      "How many symbols would you like?\n",
      " 4\n",
      "How many numbers would you like?\n",
      " 3\n"
     ]
    },
    {
     "name": "stdout",
     "output_type": "stream",
     "text": [
      "['H', 'J', 'Q', 'A', 'z', ')', '&', '(', ')', '9', '9', '7']\n",
      "['J', 'Q', '&', ')', '9', '(', '7', 'A', '9', 'H', 'z', ')']\n",
      "JQ&)9(7A9Hz)\n"
     ]
    }
   ],
   "source": [
    "import random\n",
    "letters = ['a', 'b', 'c', 'd', 'e', 'f', 'g', 'h', 'i', 'j', 'k', 'l', 'm', 'n', 'o', 'p', 'q', 'r', 's', 't', 'u', 'v', 'w', 'x', 'y', 'z', 'A', 'B', 'C', 'D', 'E', 'F', 'G', 'H', 'I', 'J', 'K', 'L', 'M', 'N', 'O', 'P', 'Q', 'R', 'S', 'T', 'U', 'V', 'W', 'X', 'Y', 'Z']\n",
    "numbers = ['0', '1', '2', '3', '4', '5', '6', '7', '8', '9']\n",
    "symbols = ['!', '#', '$', '%', '&', '(', ')', '*', '+']\n",
    "\n",
    "print(\"Welcome to the PyPassword Generator!\")\n",
    "nr_letters= int(input(\"How many letters would you like in your password?\\n\")) \n",
    "nr_symbols = int(input(f\"How many symbols would you like?\\n\"))\n",
    "nr_numbers = int(input(f\"How many numbers would you like?\\n\"))\n",
    "list1=[]\n",
    "for i in range(1,nr_letters+1):\n",
    "    list1.append(random.choice(letters))\n",
    "for i in range(1,nr_symbols+1):\n",
    "    list1.append(random.choice(symbols))\n",
    "for i in range(1,nr_numbers+1):\n",
    "    list1.append(random.choice(numbers))\n",
    "print(list1)\n",
    "random.shuffle(list1) # random.shuffle function does not work with string so, first you are shuffling list and then converting to string.\n",
    "print(list1)\n",
    "\n",
    "passwrd=\"\"\n",
    "for i in list1:\n",
    "    passwrd+=i\n",
    "print(passwrd)"
   ]
  },
  {
   "cell_type": "code",
   "execution_count": null,
   "id": "4d68324e-d40d-4849-873e-1e0d21c96a65",
   "metadata": {},
   "outputs": [],
   "source": []
  },
  {
   "cell_type": "code",
   "execution_count": null,
   "id": "3c3ff2ef-cbaa-46f7-8626-e53d671a6042",
   "metadata": {},
   "outputs": [],
   "source": []
  }
 ],
 "metadata": {
  "kernelspec": {
   "display_name": "Python 3 (ipykernel)",
   "language": "python",
   "name": "python3"
  },
  "language_info": {
   "codemirror_mode": {
    "name": "ipython",
    "version": 3
   },
   "file_extension": ".py",
   "mimetype": "text/x-python",
   "name": "python",
   "nbconvert_exporter": "python",
   "pygments_lexer": "ipython3",
   "version": "3.12.1"
  }
 },
 "nbformat": 4,
 "nbformat_minor": 5
}
