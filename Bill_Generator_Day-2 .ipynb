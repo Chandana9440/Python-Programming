Problem Statement: Calculator program in python
{
 "cells": [
  {
   "cell_type": "code",
   "execution_count": null,
   "id": "916b22eb-1000-4727-9105-1f4423fed63d",
   "metadata": {},
   "outputs": [
    {
     "name": "stdout",
     "output_type": "stream",
     "text": [
      "Welcome to the tip calculator\n"
     ]
    }
   ],
   "source": [
    "print(\"Welcome to the tip calculator\")\n",
    "bill=float(input(\"What was the total bill? $\"))\n",
    "tip=int(input(\"What percentage tip would you like to give ? 10,12, or 15 ?\"))\n",
    "people=int(input(\"How many people to split the bill\"))\n",
    "tip_amount= bill*(tip/100)\n",
    "total_bill=bill+tip_amount\n",
    "split= total_bill/people\n",
    "result=(round(split,2))\n",
    "print(f\"Your bill is: {result}\")\n",
    "print(tip_amount)\n",
    "\n",
    "\n",
    "\n",
    "\n"
   ]
  },
  {
   "cell_type": "code",
   "execution_count": null,
   "id": "27ef4c84-37cd-4091-976b-0ff76949055d",
   "metadata": {},
   "outputs": [],
   "source": []
  },
  {
   "cell_type": "code",
   "execution_count": null,
   "id": "26a241f3-7b2e-4a07-a1ff-dedbfd7f17df",
   "metadata": {},
   "outputs": [],
   "source": []
  }
 ],
 "metadata": {
  "kernelspec": {
   "display_name": "Python 3 (ipykernel)",
   "language": "python",
   "name": "python3"
  },
  "language_info": {
   "codemirror_mode": {
    "name": "ipython",
    "version": 3
   },
   "file_extension": ".py",
   "mimetype": "text/x-python",
   "name": "python",
   "nbconvert_exporter": "python",
   "pygments_lexer": "ipython3",
   "version": "3.12.1"
  }
 },
 "nbformat": 4,
 "nbformat_minor": 5
}
