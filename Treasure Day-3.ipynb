{
 "cells": [
  {
   "cell_type": "code",
   "execution_count": 14,
   "id": "bc44bbb7-9089-4e17-99e2-a9b0e414e7d3",
   "metadata": {},
   "outputs": [
    {
     "name": "stdout",
     "output_type": "stream",
     "text": [
      "Welcome to Treasure Island.\n",
      "Your mission is to find the treasure.\n"
     ]
    },
    {
     "name": "stdin",
     "output_type": "stream",
     "text": [
      "You're at a cross road. Where do you want to go? Type \"left\" or \"right\"  left\n",
      "Type swim or wait swim\n"
     ]
    },
    {
     "name": "stdout",
     "output_type": "stream",
     "text": [
      "Game over\n"
     ]
    }
   ],
   "source": [
    "print(\"Welcome to Treasure Island.\")\n",
    "print(\"Your mission is to find the treasure.\") \n",
    "input1= input(\"You're at a cross road. Where do you want to go? Type \\\"left\\\" or \\\"right\\\" \")\n",
    "if input1==\"left\":\n",
    "    input2= input(\"Type swim or wait\")\n",
    "    if input2==\"wait\":\n",
    "        input3=input(\"Which door? Red, blue or yellow\")\n",
    "        if(input3==\"red\"):\n",
    "            print(\"Burned by fire, Game over\")\n",
    "        elif(input3==\"blue\"):\n",
    "            print(\"Eaten by beasts, Game Over\")\n",
    "        elif(input3==\"yellow\"):\n",
    "            print(\"You win!\")\n",
    "        else:\n",
    "            print(\"Game Over\")\n",
    "    else:\n",
    "         print(\"Game over\")\n",
    "else:\n",
    "    print(\"Game over\")\n",
    "    "
   ]
  },
  {
   "cell_type": "code",
   "execution_count": null,
   "id": "0cc964b8-390a-40af-b220-03dd2bee0519",
   "metadata": {},
   "outputs": [],
   "source": []
  }
 ],
 "metadata": {
  "kernelspec": {
   "display_name": "Python 3 (ipykernel)",
   "language": "python",
   "name": "python3"
  },
  "language_info": {
   "codemirror_mode": {
    "name": "ipython",
    "version": 3
   },
   "file_extension": ".py",
   "mimetype": "text/x-python",
   "name": "python",
   "nbconvert_exporter": "python",
   "pygments_lexer": "ipython3",
   "version": "3.12.1"
  }
 },
 "nbformat": 4,
 "nbformat_minor": 5
}
