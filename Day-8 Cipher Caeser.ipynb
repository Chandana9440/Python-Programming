{
 "cells": [
  {
   "cell_type": "code",
   "execution_count": 16,
   "id": "9cc22c44-d2a1-4ea4-80e9-6cbc83a28069",
   "metadata": {},
   "outputs": [
    {
     "name": "stdout",
     "output_type": "stream",
     "text": [
      "My name is chandana and i'm 23 year's old. \n"
     ]
    }
   ],
   "source": [
    "def greet(name,age): #function with more than one argument\n",
    "    print(f\"My name is {name} and i'm {age} year's old. \")\n",
    "greet(\"chandana\",23)"
   ]
  },
  {
   "cell_type": "code",
   "execution_count": 17,
   "id": "cf69e457-3e3e-41ce-afca-b658f4fb1282",
   "metadata": {},
   "outputs": [
    {
     "name": "stdout",
     "output_type": "stream",
     "text": [
      "My name is chandana and i'm 25 year's old. \n"
     ]
    }
   ],
   "source": [
    "def greet(name,age): #function with more than one argument\n",
    "    print(f\"My name is {name} and i'm {age} year's old. \")\n",
    "greet(age=25,name=\"chandana\") #As python works with positional arguments if we need to change the position we have assign the arguments to respective parameters. "
   ]
  },
  {
   "cell_type": "code",
   "execution_count": 35,
   "id": "7ddd220d-c522-4102-9131-828aa41dd0b4",
   "metadata": {},
   "outputs": [
    {
     "name": "stdin",
     "output_type": "stream",
     "text": [
      "Type 'encode' to encrypt, type 'decode' to decrypt:\n",
      " decode\n",
      "Type your message:\n",
      " tfrth\n",
      "Type the shift number:\n",
      " 3\n"
     ]
    },
    {
     "name": "stdout",
     "output_type": "stream",
     "text": [
      "Decoded text is qcoqe\n"
     ]
    }
   ],
   "source": [
    "alphabet = ['a', 'b', 'c', 'd', 'e', 'f', 'g', 'h', 'i', 'j', 'k', 'l', 'm', 'n', 'o', 'p', 'q', 'r', 's', 't', 'u', 'v', 'w', 'x', 'y', 'z']\n",
    "direction = input(\"Type 'encode' to encrypt, type 'decode' to decrypt:\\n\")\n",
    "text=input(\"Type your message:\\n\")\n",
    "shift=int(input(\"Type the shift number:\\n\"))\n",
    "def cipher(direction,text,shift):\n",
    "    new_text=\"\" # string is local variable so we much define inside the function, whereas list is global variable which can be defined outside the function.\n",
    "    if direction==\"encode\":\n",
    "        for i in text:\n",
    "            x=alphabet.index(i)\n",
    "            new_text += (alphabet[(x+shift)%26])\n",
    "    return new_text\n",
    "def decrypt(a,shift):\n",
    "    new_text1=\"\"\n",
    "    for i in a:\n",
    "        x=alphabet.index(i)\n",
    "        new_text1 += (alphabet[(x-shift)%26])\n",
    "    print(f\"Decoded text is {new_text1}\")\n",
    "if direction==\"encode\":\n",
    "    a=cipher(direction,text,shift)\n",
    "    print(f\"Encoded text is {a}\")\n",
    "    input1=input(print(\"Do you want to decode the text.Yes or No?\"))\n",
    "    if input1==\"yes\":\n",
    "        a=encrypt(text,shift)\n",
    "        decrypt(a,shift)\n",
    "    else:\n",
    "        print(\"Thank You!\")\n",
    "else:  \n",
    "    decrypt(text,shift)\n",
    "\n",
    "\n",
    "\n",
    "\n",
    "\n",
    "\n"
   ]
  },
  {
   "cell_type": "code",
   "execution_count": 36,
   "id": "e52537e1-cf6d-459d-9bb3-82af6f78ddda",
   "metadata": {},
   "outputs": [
    {
     "name": "stdout",
     "output_type": "stream",
     "text": [
      "           \n",
      " ,adPPYba, ,adPPYYba,  ,adPPYba, ,adPPYba, ,adPPYYba, 8b,dPPYba,  \n",
      "a8\"     \"\" \"\"     `Y8 a8P_____88 I8[    \"\" \"\"     `Y8 88P'   \"Y8  \n",
      "8b         ,adPPPPP88 8PP\"  `\"Y8ba,  ,adPPPPP88 88          \n",
      "\"8a,   ,aa 88,    ,88 \"8b,   ,aa aa    ]8I 88,    ,88 88          \n",
      " `\"Ybbd8\"' `\"8bbdP\"Y8  `\"Ybbd8\"' `\"YbbdP\"' `\"8bbdP\"Y8 88   \n",
      "            88             88                                 \n",
      "           \"\"             88                                 \n",
      "                          88                                 \n",
      " ,adPPYba, 88 8b,dPPYba,  88,dPPYba,   ,adPPYba, 8b,dPPYba,  \n",
      "a8\"     \"\" 88 88P'    \"8a 88P'    \"8a a8P_____88 88P'   \"Y8  \n",
      "8b         88 88       d8 88       88 8PP\" 88          \n",
      "\"8a,   ,aa 88 88b,   ,a8\" 88       88 \"8b,   ,aa 88          \n",
      " `\"Ybbd8\"' 88 88`YbbdP\"'  88       88  `\"Ybbd8\"' 88          \n",
      "              88                                             \n",
      "              88           \n",
      "\n"
     ]
    },
    {
     "name": "stdin",
     "output_type": "stream",
     "text": [
      "Type 'encode' to encrypt, type 'decode' to decrypt:\n",
      " encode\n",
      "Type your message:\n",
      " chandana\n",
      "Type the shift number:\n",
      " 4\n"
     ]
    },
    {
     "name": "stdout",
     "output_type": "stream",
     "text": [
      "The decoded text is qcoqe\n"
     ]
    },
    {
     "name": "stdin",
     "output_type": "stream",
     "text": [
      "Do you want to restart the cipher text program? Yes/No yes\n",
      "Type 'encode' to encrypt, type 'decode' to decrypt:\n",
      " decode\n",
      "Type your message:\n",
      " htfhg\n",
      "Type the shift number:\n",
      " 59\n"
     ]
    },
    {
     "name": "stdout",
     "output_type": "stream",
     "text": [
      "The decoded text is wiuwk\n"
     ]
    },
    {
     "name": "stdin",
     "output_type": "stream",
     "text": [
      "Do you want to restart the cipher text program? Yes/No no\n"
     ]
    },
    {
     "name": "stdout",
     "output_type": "stream",
     "text": [
      "Thank You!\n"
     ]
    }
   ],
   "source": [
    "alphabet = ['a', 'b', 'c', 'd', 'e', 'f', 'g', 'h', 'i', 'j', 'k', 'l', 'm', 'n', 'o', 'p', 'q', 'r', 's', 't', 'u', 'v', 'w', 'x', 'y', 'z']\n",
    "from art import logo\n",
    "print(logo)\n",
    "def info():\n",
    "    direction = input(\"Type 'encode' to encrypt, type 'decode' to decrypt:\\n\")\n",
    "    text=input(\"Type your message:\\n\")\n",
    "    shift=int(input(\"Type the shift number:\\n\"))\n",
    "def caesar(direction,text,shift):\n",
    "    new_text=\"\" # string is local variable so we much define inside the function, whereas list is global variable which can be defined outside the function.\n",
    "    if direction==\"decode\":\n",
    "        shift *= -1\n",
    "    for i in text:\n",
    "        if i in alphabet:\n",
    "            x=alphabet.index(i)\n",
    "            new_text += (alphabet[(x+shift)%26])\n",
    "        else:\n",
    "            new_text += i\n",
    "    print(f\"The {direction}d text is {new_text}\")\n",
    "    n=input(\"Do you want to restart the cipher text program? Yes/No\")\n",
    "    if n=='yes':\n",
    "        info()\n",
    "        caesar(direction,text,shift)\n",
    "    else:\n",
    "        print(\"Thank You!\")\n",
    "info()\n",
    "caesar(direction,text,shift)\n"
   ]
  },
  {
   "cell_type": "code",
   "execution_count": null,
   "id": "cfe90fac-9b13-4015-bb74-25a72448ef7a",
   "metadata": {},
   "outputs": [],
   "source": []
  }
 ],
 "metadata": {
  "kernelspec": {
   "display_name": "Python 3 (ipykernel)",
   "language": "python",
   "name": "python3"
  },
  "language_info": {
   "codemirror_mode": {
    "name": "ipython",
    "version": 3
   },
   "file_extension": ".py",
   "mimetype": "text/x-python",
   "name": "python",
   "nbconvert_exporter": "python",
   "pygments_lexer": "ipython3",
   "version": "3.12.1"
  }
 },
 "nbformat": 4,
 "nbformat_minor": 5
}
